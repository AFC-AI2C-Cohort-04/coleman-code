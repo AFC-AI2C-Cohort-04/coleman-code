{
 "cells": [
  {
   "cell_type": "markdown",
   "metadata": {
    "id": "-sAtu_KL3f9T"
   },
   "source": [
    "# 2015 Flight Delays and Cancellations"
   ]
  },
  {
   "cell_type": "markdown",
   "metadata": {
    "id": "0hOOeygg3_fm"
   },
   "source": [
    "## Imports\n",
    "\n",
    "Preferably, place any additional imports you will need throughout the notebook in the cell below."
   ]
  },
  {
   "cell_type": "code",
   "execution_count": 2,
   "metadata": {
    "id": "rdruvG2N4BCy"
   },
   "outputs": [],
   "source": [
    "import pandas as pd\n",
    "from numpy import int64, float64"
   ]
  },
  {
   "cell_type": "markdown",
   "metadata": {
    "id": "CwaiTgb63nrA"
   },
   "source": [
    "## Extract and Load Data"
   ]
  },
  {
   "cell_type": "code",
   "execution_count": 3,
   "metadata": {
    "id": "S_pt1L05V-jw"
   },
   "outputs": [],
   "source": [
    "AIRLINES_CSV_PATH = 'airlines.csv'\n",
    "AIRPORTS_CSV_PATH = 'airports.csv'\n",
    "FLIGHTS_CSV_PATH = 'flights.csv'"
   ]
  },
  {
   "cell_type": "markdown",
   "metadata": {
    "id": "J4riRuoQUXfH"
   },
   "source": [
    "### TODO 1\n",
    "\n",
    "Iterate over the csv_paths, table_names, and index_cols simultaneously using zip. This will give you access to each CSV path, its corresponding table name, and the index column in each iteration. \n",
    "\n",
    "For each iteration, implement the code where the data is loaded into a pandas DataFrame from the provided csv path (`pd.read_csv` function) using the respective value of index_col for the `index_col` parameter of the `pd.read_csv`. Store the dataframe as a value in the `df_dict` under the `table_name` as key."
   ]
  },
  {
   "cell_type": "code",
   "execution_count": 4,
   "metadata": {
    "id": "YieNXVIT34El"
   },
   "outputs": [
    {
     "name": "stderr",
     "output_type": "stream",
     "text": [
      "/tmp/ipykernel_27909/3558430354.py:8: DtypeWarning: Columns (7,8) have mixed types. Specify dtype option on import or set low_memory=False.\n",
      "  df_dict[table_names[i]] = pd.read_csv(path, index_col=index_cols[i])\n"
     ]
    },
    {
     "data": {
      "text/plain": [
       "{'airlines':                                 AIRLINE\n",
       " IATA_CODE                              \n",
       " UA                United Air Lines Inc.\n",
       " AA               American Airlines Inc.\n",
       " US                      US Airways Inc.\n",
       " F9               Frontier Airlines Inc.\n",
       " B6                      JetBlue Airways\n",
       " OO                Skywest Airlines Inc.\n",
       " AS                 Alaska Airlines Inc.\n",
       " NK                     Spirit Air Lines\n",
       " WN               Southwest Airlines Co.\n",
       " DL                 Delta Air Lines Inc.\n",
       " EV          Atlantic Southeast Airlines\n",
       " HA               Hawaiian Airlines Inc.\n",
       " MQ         American Eagle Airlines Inc.\n",
       " VX                       Virgin America,\n",
       " 'airports':                                        AIRPORT  \\\n",
       " IATA_CODE                                        \n",
       " ABE        Lehigh Valley International Airport   \n",
       " ABI                   Abilene Regional Airport   \n",
       " ABQ          Albuquerque International Sunport   \n",
       " ABR                  Aberdeen Regional Airport   \n",
       " ABY         Southwest Georgia Regional Airport   \n",
       " ...                                        ...   \n",
       " WRG                           Wrangell Airport   \n",
       " WYS                     Westerly State Airport   \n",
       " XNA        Northwest Arkansas Regional Airport   \n",
       " YAK                            Yakutat Airport   \n",
       " YUM                 Yuma International Airport   \n",
       " \n",
       "                                      CITY STATE COUNTRY  LATITUDE  LONGITUDE  \n",
       " IATA_CODE                                                                     \n",
       " ABE                             Allentown    PA     USA  40.65236  -75.44040  \n",
       " ABI                               Abilene    TX     USA  32.41132  -99.68190  \n",
       " ABQ                           Albuquerque    NM     USA  35.04022 -106.60919  \n",
       " ABR                              Aberdeen    SD     USA  45.44906  -98.42183  \n",
       " ABY                                Albany    GA     USA  31.53552  -84.19447  \n",
       " ...                                   ...   ...     ...       ...        ...  \n",
       " WRG                              Wrangell    AK     USA  56.48433 -132.36982  \n",
       " WYS                      West Yellowstone    MT     USA  44.68840 -111.11764  \n",
       " XNA        Fayetteville/Springdale/Rogers    AR     USA  36.28187  -94.30681  \n",
       " YAK                               Yakutat    AK     USA  59.50336 -139.66023  \n",
       " YUM                                  Yuma    AZ     USA  32.65658 -114.60597  \n",
       " \n",
       " [322 rows x 6 columns],\n",
       " 'flights':          YEAR  MONTH  DAY  DAY_OF_WEEK AIRLINE  FLIGHT_NUMBER TAIL_NUMBER  \\\n",
       " 0        2015      1    1            4      AS             98      N407AS   \n",
       " 1        2015      1    1            4      AA           2336      N3KUAA   \n",
       " 2        2015      1    1            4      US            840      N171US   \n",
       " 3        2015      1    1            4      AA            258      N3HYAA   \n",
       " 4        2015      1    1            4      AS            135      N527AS   \n",
       " ...       ...    ...  ...          ...     ...            ...         ...   \n",
       " 5819074  2015     12   31            4      B6            688      N657JB   \n",
       " 5819075  2015     12   31            4      B6            745      N828JB   \n",
       " 5819076  2015     12   31            4      B6           1503      N913JB   \n",
       " 5819077  2015     12   31            4      B6            333      N527JB   \n",
       " 5819078  2015     12   31            4      B6            839      N534JB   \n",
       " \n",
       "         ORIGIN_AIRPORT DESTINATION_AIRPORT  SCHEDULED_DEPARTURE  ...  \\\n",
       " 0                  ANC                 SEA                    5  ...   \n",
       " 1                  LAX                 PBI                   10  ...   \n",
       " 2                  SFO                 CLT                   20  ...   \n",
       " 3                  LAX                 MIA                   20  ...   \n",
       " 4                  SEA                 ANC                   25  ...   \n",
       " ...                ...                 ...                  ...  ...   \n",
       " 5819074            LAX                 BOS                 2359  ...   \n",
       " 5819075            JFK                 PSE                 2359  ...   \n",
       " 5819076            JFK                 SJU                 2359  ...   \n",
       " 5819077            MCO                 SJU                 2359  ...   \n",
       " 5819078            JFK                 BQN                 2359  ...   \n",
       " \n",
       "          ARRIVAL_TIME  ARRIVAL_DELAY  DIVERTED  CANCELLED  \\\n",
       " 0               408.0          -22.0         0          0   \n",
       " 1               741.0           -9.0         0          0   \n",
       " 2               811.0            5.0         0          0   \n",
       " 3               756.0           -9.0         0          0   \n",
       " 4               259.0          -21.0         0          0   \n",
       " ...               ...            ...       ...        ...   \n",
       " 5819074         753.0          -26.0         0          0   \n",
       " 5819075         430.0          -16.0         0          0   \n",
       " 5819076         432.0           -8.0         0          0   \n",
       " 5819077         330.0          -10.0         0          0   \n",
       " 5819078         442.0            2.0         0          0   \n",
       " \n",
       "          CANCELLATION_REASON  AIR_SYSTEM_DELAY  SECURITY_DELAY  AIRLINE_DELAY  \\\n",
       " 0                        NaN               NaN             NaN            NaN   \n",
       " 1                        NaN               NaN             NaN            NaN   \n",
       " 2                        NaN               NaN             NaN            NaN   \n",
       " 3                        NaN               NaN             NaN            NaN   \n",
       " 4                        NaN               NaN             NaN            NaN   \n",
       " ...                      ...               ...             ...            ...   \n",
       " 5819074                  NaN               NaN             NaN            NaN   \n",
       " 5819075                  NaN               NaN             NaN            NaN   \n",
       " 5819076                  NaN               NaN             NaN            NaN   \n",
       " 5819077                  NaN               NaN             NaN            NaN   \n",
       " 5819078                  NaN               NaN             NaN            NaN   \n",
       " \n",
       "          LATE_AIRCRAFT_DELAY  WEATHER_DELAY  \n",
       " 0                        NaN            NaN  \n",
       " 1                        NaN            NaN  \n",
       " 2                        NaN            NaN  \n",
       " 3                        NaN            NaN  \n",
       " 4                        NaN            NaN  \n",
       " ...                      ...            ...  \n",
       " 5819074                  NaN            NaN  \n",
       " 5819075                  NaN            NaN  \n",
       " 5819076                  NaN            NaN  \n",
       " 5819077                  NaN            NaN  \n",
       " 5819078                  NaN            NaN  \n",
       " \n",
       " [5819079 rows x 31 columns]}"
      ]
     },
     "execution_count": 4,
     "metadata": {},
     "output_type": "execute_result"
    }
   ],
   "source": [
    "def generate_pandas_df_dict(csv_paths, table_names=None, index_cols=None):\n",
    "    if table_names is None:\n",
    "        table_names = csv_paths\n",
    "    if index_cols is None:\n",
    "        index_cols = (None,) * len(csv_paths)\n",
    "    df_dict = {}\n",
    "    for i, path in enumerate(csv_paths):\n",
    "        df_dict[table_names[i]] = pd.read_csv(path, index_col=index_cols[i])\n",
    "    return df_dict\n",
    "\n",
    "\"\"\"\n",
    "df_dict = generate_pandas_df_dict(\n",
    "    (AIRLINES_CSV_PATH, AIRPORTS_CSV_PATH, FLIGHTS_CSV_PATH),\n",
    "    ('airlines', 'airports', 'flights'),\n",
    "    (0, 0, None)\n",
    ")\n",
    "\n",
    "df_dict\n",
    "\"\"\""
   ]
  },
  {
   "cell_type": "markdown",
   "metadata": {
    "id": "2OYNcuAD7Rkl"
   },
   "source": [
    "## Show Tables"
   ]
  },
  {
   "cell_type": "markdown",
   "metadata": {
    "id": "1ZJoT2gMXata"
   },
   "source": [
    "### TODO 2\n",
    "\n",
    "Implement the code so that the function prints output of the following shape:\n",
    "\n",
    "    === TABLES ===\n",
    "    - airlines (14 rows, 1 columns)\n",
    "    - airports (322 rows, 6 columns)\n",
    "    - flights (5819079 rows, 31 columns)\n",
    "    TOTAL 3\n",
    "\n",
    "Hint: Use the 'shape' attribute of each Dataframe to get the rows and columns.    "
   ]
  },
  {
   "cell_type": "code",
   "execution_count": 5,
   "metadata": {
    "id": "kcwIWx0754AX"
   },
   "outputs": [
    {
     "name": "stdout",
     "output_type": "stream",
     "text": [
      "=== TABLES ===\n",
      "- airlines (14 rows, 1 columns)\n",
      "- airports (322 rows, 6 columns)\n",
      "- flights (5819079 rows, 31 columns)\n",
      "TOTAL 3\n"
     ]
    }
   ],
   "source": [
    "def show_tables(df_dict):\n",
    "    print('=== TABLES ===')\n",
    "    for name, df in sorted(df_dict.items()):\n",
    "        rows, cols = df.shape\n",
    "        print(f'- {name} ({rows} rows, {cols} columns)')\n",
    "    print(f'TOTAL {len(df_dict)}')\n",
    "\n",
    "# show_tables(df_dict)"
   ]
  },
  {
   "cell_type": "markdown",
   "metadata": {
    "id": "JPaCuIum_cBd"
   },
   "source": [
    "## Describe Table"
   ]
  },
  {
   "cell_type": "markdown",
   "metadata": {
    "id": "V8_HB33ncu15"
   },
   "source": [
    "### TODO 3\n",
    "Complete the code in the `if` branch with max, min and mean functions of the Dataframe's column i.e., replace\n",
    "<MAX_FUNCTION>,<MIN_FUNCTION> and <MEAN_FUNCTION> with appropriate functions. \n",
    "\n",
    "Finish the `else` branch so that a column that is not int64 or float64 will have the following shape:\n",
    "\n",
    "    - TAIL_NUMBER object (5804358/5819079) [4898 unique]\n",
    "\n",
    "Note that for the count of unique objects an absenting value counts as one. For example, if there is a column where lines are either assigned with value \"red\" or value \"blue\", and there is a couple of line where the value is not assigned, then the column should be reported as having three unique values."
   ]
  },
  {
   "cell_type": "code",
   "execution_count": 6,
   "metadata": {
    "id": "K8fEkDmM_iDN"
   },
   "outputs": [
    {
     "name": "stdout",
     "output_type": "stream",
     "text": [
      "=== COLUMNS ===\n",
      "- AIRPORT object (322/322) [322 unique]\n",
      "- CITY object (322/322) [308 unique]\n",
      "- STATE object (322/322) [54 unique]\n",
      "- COUNTRY object (322/322) [1 unique]\n",
      "- LATITUDE float64 (319/322) [Max: 71.28545, Mean: 38.9812439184953, Min: 13.48345]\n",
      "- LONGITUDE float64 (319/322) [Max: -64.79856, Mean: -98.37896445141067, Min: -176.64603]\n",
      "TOTAL 322\n"
     ]
    }
   ],
   "source": [
    "def describe_table(df):\n",
    "    print('=== COLUMNS ===')\n",
    "    total = df.shape[0]\n",
    "    for column, dtype in zip(df.columns, df.dtypes):\n",
    "        series = df[column]\n",
    "        f_string = f'- {column} {dtype} ({series.count()}/{total}) '\n",
    "        if dtype == int64 or dtype == float64:\n",
    "            print(f_string + f'[Max: {series.max()}, Mean: {series.mean()}, Min: {series.min()}]' )\n",
    "        else:\n",
    "            if column != 'CANCELLATION_REASON':\n",
    "                print(f_string + f'[{series.nunique()} unique]')\n",
    "            else:\n",
    "                print(f_string + f'[{len(list(df[\"CANCELLATION_REASON\"].unique()))} unique]')\n",
    "    print(f'TOTAL {total}')\n",
    "\n",
    "# describe_table(df_dict['airports'])"
   ]
  },
  {
   "cell_type": "markdown",
   "metadata": {
    "id": "ujgffThGKYUx"
   },
   "source": [
    "## Identify Useless Columns"
   ]
  },
  {
   "cell_type": "markdown",
   "metadata": {
    "id": "nmNS2xfpcy6E"
   },
   "source": [
    "### TODO 4\n",
    "\n",
    "Add one additional check that will assess if the series has only a single value. If yes the following should be printed (COLUMN_NAME will replaced by the actual name of the column):\n",
    "\n",
    "    The column COLUMN_NAME appears to have only one value.\n",
    "\n",
    "Hint: Think something on the lines of a method that gives unique values having a parameter that cleans NaN data."
   ]
  },
  {
   "cell_type": "code",
   "execution_count": 7,
   "metadata": {
    "id": "6DJvsQdhKbjo"
   },
   "outputs": [
    {
     "name": "stdout",
     "output_type": "stream",
     "text": [
      "The column COUNTRY appears to have only one value.\n"
     ]
    }
   ],
   "source": [
    "def assess_useless_columns(df):\n",
    "    for column in df.columns:\n",
    "        series = df[column]\n",
    "        if series.count() == 0:\n",
    "            print(f'The column {column} appears to have no values.')\n",
    "        if len(series.unique()) == 1:\n",
    "            print(f'The column {column} appears to have only one value.')\n",
    "\n",
    "# assess_useless_columns(df_dict['airports'])"
   ]
  },
  {
   "cell_type": "markdown",
   "metadata": {
    "id": "1TOHMV71ND-h"
   },
   "source": [
    "## Delays Per Airline\n",
    "\n",
    "The function `generate_delays_per_airline_csv` produces the following csv stored at the `csv_path`:\n",
    "\n",
    "    AIRLINE,ARRIVAL_DELAY\n",
    "    Spirit Air Lines,14.471799501705833\n",
    "    Frontier Airlines Inc.,12.504706404706404\n",
    "    JetBlue Airways,6.677860800940307\n",
    "    Atlantic Southeast Airlines,6.585378691739733\n",
    "    American Eagle Airlines Inc.,6.457873460764516\n",
    "    Skywest Airlines Inc.,5.845652151300072\n",
    "    United Air Lines Inc.,5.431593935741549\n",
    "    Virgin America,4.737705721003135\n",
    "    Southwest Airlines Co.,4.3749636792570525\n",
    "    US Airways Inc.,3.7062088424131026\n",
    "    American Airlines Inc.,3.4513721447256764\n",
    "    Hawaiian Airlines Inc.,2.023092805197196\n",
    "    Delta Air Lines Inc.,0.18675361236390797\n",
    "    Alaska Airlines Inc.,-0.9765630924118783\n",
    "\n",
    "Uncomment the commented lines below and fill the values for <COLUMN_1> and <COLUMN_2>. Look at the output above, observe the column names and use them to complete the code. "
   ]
  },
  {
   "cell_type": "code",
   "execution_count": 8,
   "metadata": {
    "id": "L_lmksFHNLH7"
   },
   "outputs": [],
   "source": [
    "def generate_delays_per_airline_csv(df_dict, csv_path):\n",
    "    df_dict_delay = df_dict['flights'][['AIRLINE','ARRIVAL_DELAY']]\n",
    "    mean = df_dict_delay.groupby('AIRLINE').mean()\n",
    "    pd.merge(df_dict['airlines'],\n",
    "        mean,\n",
    "        left_index=True,\n",
    "        right_index=True,\n",
    "    ).sort_values(\n",
    "        by='ARRIVAL_DELAY',\n",
    "        ascending=False,\n",
    "        ignore_index=True\n",
    "    ).to_csv(csv_path, index=False)\n",
    "\n",
    "# generate_delays_per_airline_csv(df_dict, 'out.csv')"
   ]
  },
  {
   "cell_type": "markdown",
   "metadata": {
    "id": "83rlxAeSPcpX"
   },
   "source": [
    "## Delays Per Arrival Airport"
   ]
  },
  {
   "cell_type": "markdown",
   "metadata": {
    "id": "uIoT6VMYdpN4"
   },
   "source": [
    "### TODO 5\n",
    "\n",
    "Implement the `generate_delays_per_arriving_airport_csv` function that works similarly to the `generate_delays_per_airline_csv`. However, instead of listing the average dalays per airline list them per airport where the flight arrives. The output should contain the name of the arriving airport in the first column and the average delay in the second."
   ]
  },
  {
   "cell_type": "code",
   "execution_count": 9,
   "metadata": {
    "id": "AUdIewLsPbDX"
   },
   "outputs": [],
   "source": [
    "def generate_delays_per_arriving_airport_csv(df_dict, csv_path):\n",
    "    df_dict_delay = df_dict['flights'][['DESTINATION_AIRPORT','ARRIVAL_DELAY']]\n",
    "    pd.merge(df_dict_delay.groupby('DESTINATION_AIRPORT').mean(),\n",
    "        df_dict['airports'].loc[:, ['AIRPORT']],\n",
    "        left_on='DESTINATION_AIRPORT',\n",
    "        right_on='IATA_CODE',\n",
    "    ).sort_values(\n",
    "        by='ARRIVAL_DELAY', ascending=False, ignore_index=True\n",
    "    )[['AIRPORT', 'ARRIVAL_DELAY']].to_csv(csv_path, index=False)\n",
    "\n",
    "# generate_delays_per_arriving_airport_csv(df_dict, 'out.csv')"
   ]
  }
 ],
 "metadata": {
  "colab": {
   "name": "flights_delay_explore.ipynb",
   "provenance": []
  },
  "kernelspec": {
   "display_name": "Python 3 (ipykernel)",
   "language": "python",
   "name": "python3"
  },
  "language_info": {
   "codemirror_mode": {
    "name": "ipython",
    "version": 3
   },
   "file_extension": ".py",
   "mimetype": "text/x-python",
   "name": "python",
   "nbconvert_exporter": "python",
   "pygments_lexer": "ipython3",
   "version": "3.11.7"
  }
 },
 "nbformat": 4,
 "nbformat_minor": 4
}
